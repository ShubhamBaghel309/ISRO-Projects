{
 "cells": [
  {
   "cell_type": "code",
   "execution_count": null,
   "metadata": {},
   "outputs": [],
   "source": []
  },
  {
   "cell_type": "code",
   "execution_count": 1,
   "metadata": {},
   "outputs": [
    {
     "ename": "ModuleNotFoundError",
     "evalue": "No module named 'pyESN'",
     "output_type": "error",
     "traceback": [
      "\u001b[1;31m---------------------------------------------------------------------------\u001b[0m",
      "\u001b[1;31mModuleNotFoundError\u001b[0m                       Traceback (most recent call last)",
      "Cell \u001b[1;32mIn[1], line 3\u001b[0m\n\u001b[0;32m      1\u001b[0m \u001b[38;5;28;01mimport\u001b[39;00m \u001b[38;5;21;01mnumpy\u001b[39;00m \u001b[38;5;28;01mas\u001b[39;00m \u001b[38;5;21;01mnp\u001b[39;00m\n\u001b[0;32m      2\u001b[0m \u001b[38;5;28;01mimport\u001b[39;00m \u001b[38;5;21;01mmatplotlib\u001b[39;00m\u001b[38;5;21;01m.\u001b[39;00m\u001b[38;5;21;01mpyplot\u001b[39;00m \u001b[38;5;28;01mas\u001b[39;00m \u001b[38;5;21;01mplt\u001b[39;00m\n\u001b[1;32m----> 3\u001b[0m \u001b[38;5;28;01mfrom\u001b[39;00m \u001b[38;5;21;01mpyESN\u001b[39;00m \u001b[38;5;28;01mimport\u001b[39;00m ESN  \u001b[38;5;66;03m# This will work after installing the package\u001b[39;00m\n\u001b[0;32m      5\u001b[0m \u001b[38;5;66;03m# Generate a simple sine wave dataset\u001b[39;00m\n\u001b[0;32m      6\u001b[0m time \u001b[38;5;241m=\u001b[39m np\u001b[38;5;241m.\u001b[39mlinspace(\u001b[38;5;241m0\u001b[39m, \u001b[38;5;241m10\u001b[39m, \u001b[38;5;241m1000\u001b[39m)\n",
      "\u001b[1;31mModuleNotFoundError\u001b[0m: No module named 'pyESN'"
     ]
    }
   ],
   "source": [
    "import numpy as np\n",
    "import matplotlib.pyplot as plt\n",
    "from pyESN import ESN  # This will work after installing the package\n",
    "\n",
    "# Generate a simple sine wave dataset\n",
    "time = np.linspace(0, 10, 1000)\n",
    "data = np.sin(time)\n",
    "\n",
    "# Train on first 700 points, predict the next 300\n",
    "train_data = data[:700]\n",
    "test_data = data[700:]\n",
    "\n",
    "# Create and train the Echo State Network\n",
    "esn = ESN(n_inputs=1, n_outputs=1, n_reservoir=200, spectral_radius=0.9)\n",
    "predictions = esn.fit(train_data.reshape(-1, 1), train_data.reshape(-1, 1))\n",
    "\n",
    "# Predict on the test data\n",
    "output = esn.predict(test_data.reshape(-1, 1))\n",
    "\n",
    "# Plot the results\n",
    "plt.plot(range(700), train_data, label=\"Training Data\")\n",
    "plt.plot(range(700, 1000), test_data, label=\"Actual Test Data\")\n",
    "plt.plot(range(700, 1000), output, label=\"Predicted Data\")\n",
    "plt.legend()\n",
    "plt.show()\n"
   ]
  },
  {
   "cell_type": "code",
   "execution_count": null,
   "metadata": {},
   "outputs": [],
   "source": []
  }
 ],
 "metadata": {
  "kernelspec": {
   "display_name": "base",
   "language": "python",
   "name": "python3"
  },
  "language_info": {
   "codemirror_mode": {
    "name": "ipython",
    "version": 3
   },
   "file_extension": ".py",
   "mimetype": "text/x-python",
   "name": "python",
   "nbconvert_exporter": "python",
   "pygments_lexer": "ipython3",
   "version": "3.11.7"
  }
 },
 "nbformat": 4,
 "nbformat_minor": 2
}
